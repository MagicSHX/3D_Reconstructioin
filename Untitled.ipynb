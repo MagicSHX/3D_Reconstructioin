{
 "cells": [
  {
   "cell_type": "code",
   "execution_count": null,
   "metadata": {},
   "outputs": [],
   "source": [
    "\n",
    "\n",
    "import win32com.client\n",
    "\n",
    "app=win32com.client.Dispatch(\"SldWorks.Application\")\n",
    "doc=app.OpenDoc(\"c:\\\\Testpart.SLDPRT\", 1)\n",
    "doc.SaveAs2(\"c:\\\\Testpart.3dxml\", 0, True, False)\n"
   ]
  },
  {
   "cell_type": "code",
   "execution_count": 6,
   "metadata": {},
   "outputs": [
    {
     "data": {
      "text/plain": [
       "array([[ 48.33892,  37.55091, 162.6077 ],\n",
       "       [ 46.80376,  38.08081, 163.9305 ],\n",
       "       [ 49.00587,  35.97895, 162.7989 ]], dtype=float32)"
      ]
     },
     "execution_count": 6,
     "metadata": {},
     "output_type": "execute_result"
    }
   ],
   "source": [
    "import numpy\n",
    "from stl import mesh\n",
    "\n",
    "# Using an existing stl file:\n",
    "database_MOTO = mesh.Mesh.from_file('F:/3D/casque-de-moto-1.snapshot.1/Moto.stl')\n",
    "database_MOTO.vectors[0]"
   ]
  }
 ],
 "metadata": {
  "kernelspec": {
   "display_name": "Python 3",
   "language": "python",
   "name": "python3"
  },
  "language_info": {
   "codemirror_mode": {
    "name": "ipython",
    "version": 3
   },
   "file_extension": ".py",
   "mimetype": "text/x-python",
   "name": "python",
   "nbconvert_exporter": "python",
   "pygments_lexer": "ipython3",
   "version": "3.7.3"
  }
 },
 "nbformat": 4,
 "nbformat_minor": 2
}
